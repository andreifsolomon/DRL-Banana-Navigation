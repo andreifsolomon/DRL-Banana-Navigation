{
 "cells": [
  {
   "cell_type": "markdown",
   "metadata": {},
   "source": [
    "# Navigation\n",
    "\n",
    "---\n",
    "\n",
    "In this notebook, you will learn how to use the Unity ML-Agents environment for the first project of the [Deep Reinforcement Learning Nanodegree](https://www.udacity.com/course/deep-reinforcement-learning-nanodegree--nd893).\n",
    "\n",
    "### 1. Start the Environment\n",
    "\n",
    "We begin by importing some necessary packages.  If the code cell below returns an error, please revisit the project instructions to double-check that you have installed [Unity ML-Agents](https://github.com/Unity-Technologies/ml-agents/blob/master/docs/Installation.md) and [NumPy](http://www.numpy.org/)."
   ]
  },
  {
   "cell_type": "code",
   "execution_count": 1,
   "metadata": {},
   "outputs": [],
   "source": [
    "import os\n",
    "import sys\n",
    "\n",
    "# add parent folder to path\n",
    "p1_navigation_folder_path = os.path.abspath(os.path.join('../'))\n",
    "sys.path.append(p1_navigation_folder_path)\n",
    "\n",
    "# add unityagents, \n",
    "# this is a copy of the 'python' folder from udacity eep-reinforcement-learning nanodegree\n",
    "# https://github.com/udacity/deep-reinforcement-learning#dependencies\n",
    "unityagents_module_path = os.path.abspath(os.path.join('udacity-ml-agents'))\n",
    "sys.path.append(unityagents_module_path)"
   ]
  },
  {
   "cell_type": "markdown",
   "metadata": {},
   "source": [
    "# Importing necessary packages"
   ]
  },
  {
   "cell_type": "code",
   "execution_count": 2,
   "metadata": {},
   "outputs": [],
   "source": [
    "import numpy as np\n",
    "from collections import deque\n",
    "import torch\n",
    "\n",
    "import matplotlib.pyplot as plt\n",
    "\n",
    "from unityagents import UnityEnvironment\n",
    "from dqn_agent import Agent"
   ]
  },
  {
   "cell_type": "markdown",
   "metadata": {},
   "source": [
    "Next, we will start the environment!  **_Before running the code cell below_**, change the `file_name` parameter to match the location of the Unity environment that you downloaded.\n",
    "\n",
    "- **Mac**: `\"path/to/Banana.app\"`\n",
    "- **Windows** (x86): `\"path/to/Banana_Windows_x86/Banana.exe\"`\n",
    "- **Windows** (x86_64): `\"path/to/Banana_Windows_x86_64/Banana.exe\"`\n",
    "- **Linux** (x86): `\"path/to/Banana_Linux/Banana.x86\"`\n",
    "- **Linux** (x86_64): `\"path/to/Banana_Linux/Banana.x86_64\"`\n",
    "- **Linux** (x86, headless): `\"path/to/Banana_Linux_NoVis/Banana.x86\"`\n",
    "- **Linux** (x86_64, headless): `\"path/to/Banana_Linux_NoVis/Banana.x86_64\"`\n",
    "\n",
    "For instance, if you are using a Mac, then you downloaded `Banana.app`.  If this file is in the same folder as the notebook, then the line below should appear as follows:\n",
    "```\n",
    "env = UnityEnvironment(file_name=\"Banana.app\")\n",
    "```"
   ]
  },
  {
   "cell_type": "code",
   "execution_count": 3,
   "metadata": {},
   "outputs": [
    {
     "name": "stderr",
     "output_type": "stream",
     "text": [
      "INFO:unityagents:\n",
      "'Academy' started successfully!\n",
      "Unity Academy name: Academy\n",
      "        Number of Brains: 1\n",
      "        Number of External Brains : 1\n",
      "        Lesson number : 0\n",
      "        Reset Parameters :\n",
      "\t\t\n",
      "Unity brain name: BananaBrain\n",
      "        Number of Visual Observations (per agent): 0\n",
      "        Vector Observation space type: continuous\n",
      "        Vector Observation space size (per agent): 37\n",
      "        Number of stacked Vector Observation: 1\n",
      "        Vector Action space type: discrete\n",
      "        Vector Action space size (per agent): 4\n",
      "        Vector Action descriptions: , , , \n"
     ]
    }
   ],
   "source": [
    "env = UnityEnvironment(file_name=\"../Banana_Windows_x86_64/Banana.x86_64\")"
   ]
  },
  {
   "cell_type": "markdown",
   "metadata": {},
   "source": [
    "Environments contain **_brains_** which are responsible for deciding the actions of their associated agents. Here we check for the first brain available, and set it as the default brain we will be controlling from Python."
   ]
  },
  {
   "cell_type": "code",
   "execution_count": 4,
   "metadata": {},
   "outputs": [],
   "source": [
    "# get the default brain\n",
    "brain_name = env.brain_names[0]\n",
    "brain = env.brains[brain_name]"
   ]
  },
  {
   "cell_type": "markdown",
   "metadata": {},
   "source": [
    "### 2. Examine the State and Action Spaces\n",
    "\n",
    "The simulation contains a single agent that navigates a large environment.  At each time step, it has four actions at its disposal:\n",
    "- `0` - walk forward \n",
    "- `1` - walk backward\n",
    "- `2` - turn left\n",
    "- `3` - turn right\n",
    "\n",
    "The state space has `37` dimensions and contains the agent's velocity, along with ray-based perception of objects around agent's forward direction.  A reward of `+1` is provided for collecting a yellow banana, and a reward of `-1` is provided for collecting a blue banana. \n",
    "\n",
    "Run the code cell below to print some information about the environment."
   ]
  },
  {
   "cell_type": "code",
   "execution_count": 5,
   "metadata": {},
   "outputs": [
    {
     "name": "stdout",
     "output_type": "stream",
     "text": [
      "Number of agents: 1\n",
      "Number of actions: 4\n",
      "States look like: [1.         0.         0.         0.         0.84408134 0.\n",
      " 0.         1.         0.         0.0748472  0.         1.\n",
      " 0.         0.         0.25755    1.         0.         0.\n",
      " 0.         0.74177343 0.         1.         0.         0.\n",
      " 0.25854847 0.         0.         1.         0.         0.09355672\n",
      " 0.         1.         0.         0.         0.31969345 0.\n",
      " 0.        ]\n",
      "States have length: 37\n"
     ]
    }
   ],
   "source": [
    "# reset the environment\n",
    "env_info = env.reset(train_mode=True)[brain_name]\n",
    "\n",
    "# number of agents in the environment\n",
    "print('Number of agents:', len(env_info.agents))\n",
    "\n",
    "# number of actions\n",
    "action_size = brain.vector_action_space_size\n",
    "print('Number of actions:', action_size)\n",
    "\n",
    "# examine the state space \n",
    "state = env_info.vector_observations[0]\n",
    "print('States look like:', state)\n",
    "state_size = len(state)\n",
    "print('States have length:', state_size)"
   ]
  },
  {
   "cell_type": "markdown",
   "metadata": {},
   "source": [
    "### 3. Train Agent in the Environment\n"
   ]
  },
  {
   "cell_type": "code",
   "execution_count": 6,
   "metadata": {},
   "outputs": [
    {
     "name": "stdout",
     "output_type": "stream",
     "text": [
      "self.feature_model: Sequential(\n",
      "  (fc1): Linear(in_features=37, out_features=296, bias=True)\n",
      "  (relu1): ReLU()\n",
      ")\n",
      "self.value_approximator_model: Sequential(\n",
      "  (fc1): Linear(in_features=296, out_features=148, bias=True)\n",
      "  (relu1): ReLU()\n",
      "  (logits): Linear(in_features=148, out_features=1, bias=True)\n",
      ")\n",
      "self.advantage_approximator_model: Sequential(\n",
      "  (fc1): Linear(in_features=296, out_features=148, bias=True)\n",
      "  (relu1): ReLU()\n",
      "  (logits): Linear(in_features=148, out_features=4, bias=True)\n",
      ")\n",
      "self.feature_model: Sequential(\n",
      "  (fc1): Linear(in_features=37, out_features=296, bias=True)\n",
      "  (relu1): ReLU()\n",
      ")\n",
      "self.value_approximator_model: Sequential(\n",
      "  (fc1): Linear(in_features=296, out_features=148, bias=True)\n",
      "  (relu1): ReLU()\n",
      "  (logits): Linear(in_features=148, out_features=1, bias=True)\n",
      ")\n",
      "self.advantage_approximator_model: Sequential(\n",
      "  (fc1): Linear(in_features=296, out_features=148, bias=True)\n",
      "  (relu1): ReLU()\n",
      "  (logits): Linear(in_features=148, out_features=4, bias=True)\n",
      ")\n",
      "Episode 100\tAverage Score: 0.97\n",
      "Episode 200\tAverage Score: 4.70\n",
      "Episode 300\tAverage Score: 7.39\n",
      "Episode 400\tAverage Score: 8.40\n",
      "Episode 500\tAverage Score: 10.40\n",
      "Episode 600\tAverage Score: 11.92\n",
      "Episode 700\tAverage Score: 13.11\n",
      "Episode 800\tAverage Score: 15.15\n",
      "Episode 900\tAverage Score: 14.89\n",
      "Episode 1000\tAverage Score: 14.98\n",
      "Episode 1100\tAverage Score: 14.41\n",
      "Episode 1200\tAverage Score: 15.51\n",
      "Episode 1300\tAverage Score: 15.38\n",
      "Episode 1400\tAverage Score: 15.78\n",
      "Episode 1500\tAverage Score: 16.36\n",
      "Episode 1600\tAverage Score: 16.52\n",
      "Episode 1700\tAverage Score: 15.98\n",
      "Episode 1800\tAverage Score: 15.99\n",
      "Episode 1900\tAverage Score: 15.75\n",
      "Episode 2000\tAverage Score: 16.82\n"
     ]
    },
    {
     "data": {
      "image/png": "[encoded data removed]",
      "text/plain": [
       "<Figure size 432x288 with 1 Axes>"
      ]
     },
     "metadata": {
      "needs_background": "light"
     },
     "output_type": "display_data"
    }
   ],
   "source": [
    "agent = Agent(state_size=state_size, action_size=action_size, seed=0)\n",
    "\n",
    "def duel_dqn(n_episodes=2000, max_t=1000, eps_start=1.0, eps_end=0.01, eps_decay=0.995):\n",
    "    \"\"\"Deep Q-Learning.\n",
    "\n",
    "    Params\n",
    "    ======\n",
    "        n_episodes (int): maximum number of training episodes\n",
    "        max_t (int): maximum number of timesteps per episode\n",
    "        eps_start (float): starting value of epsilon, for epsilon-greedy action selection\n",
    "        eps_end (float): minimum value of epsilon\n",
    "        eps_decay (float): multiplicative factor (per episode) for decreasing epsilon\n",
    "    \"\"\"\n",
    "    scores = []  # list containing scores from each episode\n",
    "    scores_window = deque(maxlen=100)  # last 100 scores\n",
    "    window_score_averages = [] # List of averages from each window\n",
    "    eps = eps_start  # initialize epsilon\n",
    "    \n",
    "    for i_episode in range(1, n_episodes + 1):\n",
    "\n",
    "        env_info = env.reset(train_mode=True)[brain_name]  # reset the environment\n",
    "        state = env_info.vector_observations[0]  # get the current state\n",
    "        score = 0  # initialize the score\n",
    "\n",
    "        for t in range(max_t):\n",
    "            action = agent.act(state, eps)  # select an action\n",
    "            env_info = env.step(action.astype(int))[brain_name]  # send the action to the environment\n",
    "\n",
    "            next_state = env_info.vector_observations[0]  # get the next state\n",
    "            reward = env_info.rewards[0]  # get the reward\n",
    "            done = env_info.local_done[0]  # see if episode has finished\n",
    "\n",
    "            agent.step(state, action, reward, next_state, done)\n",
    "\n",
    "            score += reward  # update the score\n",
    "            state = next_state  # roll over the state to next time step\n",
    "            if done:  # exit loop if episode finished\n",
    "                break\n",
    "                \n",
    "        scores_window.append(score)  # save most recent score\n",
    "        scores.append(score)  # save most recent score\n",
    "        \n",
    "        eps = max(eps_end, eps_decay * eps)  # decrease epsilon\n",
    "\n",
    "        # when a new improved mean is observed, save model\n",
    "        if i_episode == 1 or best_mean_score < np.mean(scores_window):\n",
    "            best_mean_score = np.mean(scores_window)\n",
    "            torch.save(agent.qnetwork_local.state_dict(), 'checkpoint{}.pth'.format(int(best_mean_score)))\n",
    "            torch.save(agent.qnetwork_local.state_dict(), 'model.pth')\n",
    "\n",
    "\n",
    "        print('\\rEpisode {}\\tAverage Score: {:.2f}'.format(i_episode, np.mean(scores_window)), end=\"\")\n",
    "        if i_episode % 100 == 0:\n",
    "            print('\\rEpisode {}\\tAverage Score: {:.2f}'.format(i_episode, np.mean(scores_window)))\n",
    "            window_score_averages.append((i_episode, np.mean(scores_window)))\n",
    "\n",
    "\n",
    "        if np.mean(scores_window) >= 20.0:\n",
    "            print('\\nEnvironment solved in {:d} episodes!\\tAverage Score: {:.2f}'.format(i_episode - 100,\n",
    "                                                                                         np.mean(scores_window)))\n",
    "            torch.save(agent.qnetwork_local.state_dict(), 'checkpoint.pth')\n",
    "            break\n",
    "\n",
    "    \n",
    "    # plot performance\n",
    "    line1, = plt.plot(np.linspace(0, i_episode, len(scores), endpoint=False), np.asarray(scores), color=\"blue\", label='Episode Reward')\n",
    "    \n",
    "    time, average_scores = list(zip(*window_score_averages))\n",
    "    line2, = plt.plot(list(time), list(average_scores),  color=\"red\", label='Average Reward')\n",
    "    \n",
    "    plt.xlabel('Episode Number')\n",
    "    plt.ylabel('Score')\n",
    "    plt.legend(handles=[line1, line2], loc=4)\n",
    "    \n",
    "    plt.draw()\n",
    "    plt.savefig(\"navigation_training_performance.pdf\")\n",
    "    env.close()\n",
    "\n",
    "    return scores\n",
    "\n",
    "scores = duel_dqn()"
   ]
  },
  {
   "cell_type": "markdown",
   "metadata": {},
   "source": [
    "When finished, you can execute the 'Navigation-Viewer' notebook to visualize the trained model performance."
   ]
  }
 ],
 "metadata": {
  "kernelspec": {
   "display_name": "Python 3",
   "language": "python",
   "name": "python3"
  },
  "language_info": {
   "codemirror_mode": {
    "name": "ipython",
    "version": 3
   },
   "file_extension": ".py",
   "mimetype": "text/x-python",
   "name": "python",
   "nbconvert_exporter": "python",
   "pygments_lexer": "ipython3",
   "version": "3.7.3"
  }
 },
 "nbformat": 4,
 "nbformat_minor": 2
}
